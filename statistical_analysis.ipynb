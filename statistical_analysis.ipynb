{
 "cells": [
  {
   "cell_type": "code",
   "execution_count": 2,
   "id": "initial_id",
   "metadata": {
    "collapsed": true,
    "ExecuteTime": {
     "end_time": "2025-05-29T20:17:54.203567Z",
     "start_time": "2025-05-29T20:17:49.115979Z"
    }
   },
   "outputs": [
    {
     "name": "stdout",
     "output_type": "stream",
     "text": [
      "[INFO] No VAE checkpoint found.\n",
      "[INFO] No generator checkpoint found.\n",
      "[INFO] No discriminator checkpoint found.\n"
     ]
    }
   ],
   "source": [
    "%load_ext autoreload\n",
    "%autoreload 2\n",
    "\n",
    "import pandas as pd\n",
    "import os\n",
    "from scipy.stats import shapiro, bartlett, f_oneway\n",
    "import matplotlib.pyplot as plt\n",
    "import seaborn as sns"
   ]
  },
  {
   "cell_type": "markdown",
   "source": [
    "# Wczytanie danych"
   ],
   "metadata": {
    "collapsed": false
   },
   "id": "8f1e9bfd744133eb"
  },
  {
   "cell_type": "code",
   "outputs": [],
   "source": [
    "metrics = ['f2_score', 'balanced_accuracy', 'recall', 'specificity']\n",
    "\n",
    "gan_path = 'crossvalidation_results/CNNGAN_cross_validation_results.csv'\n",
    "synth_gan_path = 'crossvalidation_results/CNNGAN_synthetic_cross_validation_results.csv'\n",
    "vae_path = 'crossvalidation_results/CNNVAE_cross_validation_results.csv'\n",
    "synth_vae_path = 'crossvalidation_results/CNNVAE_synthetic_cross_validation_results.csv'\n",
    "orig_path = 'crossvalidation_results/without_oversampling_cross_validation_results.csv'\n",
    "gan_df = pd.read_csv(gan_path)\n",
    "synth_gan_df = pd.read_csv(synth_gan_path)\n",
    "vae_df = pd.read_csv(vae_path)\n",
    "synth_vae_df = pd.read_csv(synth_vae_path)\n",
    "orig_df = pd.read_csv(orig_path)"
   ],
   "metadata": {
    "collapsed": false,
    "ExecuteTime": {
     "end_time": "2025-05-29T20:17:56.314339Z",
     "start_time": "2025-05-29T20:17:56.213198Z"
    }
   },
   "id": "d7834913642c3083",
   "execution_count": 3
  },
  {
   "cell_type": "markdown",
   "source": [
    "# Statystyki opisowe"
   ],
   "metadata": {
    "collapsed": false
   },
   "id": "70381b97000a36ee"
  },
  {
   "cell_type": "code",
   "outputs": [],
   "source": [
    "out_dir = 'general_statistics/'\n",
    "if not os.path.exists(out_dir):\n",
    "    os.makedirs(out_dir)\n",
    "\n",
    "dataframes = {\n",
    "    'CNNGAN_df':  gan_df,\n",
    "    'CNNVAE_df':  vae_df,\n",
    "    'original_df': orig_df,\n",
    "    'CNNGAN_synthetic_df': synth_gan_df,\n",
    "    'CNNVAE_synthetic_df': synth_vae_df\n",
    "}\n",
    "\n",
    "for name, df in dataframes.items():\n",
    "    x = df.shape[1]\n",
    "    if name == 'CNNGAN_df' or name == 'CNNVAE_synthetic_df':\n",
    "        x = -2\n",
    "    elif name == 'CNNGAN_synthetic_df':\n",
    "        x = -1\n",
    "    elif name == 'CNNVAE_df':\n",
    "        x = -3\n",
    "    desc = df.iloc[:, 1:x].describe()\n",
    "\n",
    "    # Transpose it and reset index\n",
    "    desc_t = desc.transpose().reset_index()\n",
    "\n",
    "    # Rename columns\n",
    "    desc_t = desc_t.rename(columns={'index': 'metric'})\n",
    "    \n",
    "    # Melt the dataframe to long format: stat in one column, values in another\n",
    "    result_df = desc_t.melt(id_vars='metric', var_name='stat', value_name='value')\n",
    "    \n",
    "    # Optional: reorder columns\n",
    "    result_df = result_df[['stat', 'metric', 'value']]\n",
    "    # Show result\n",
    "    result_df.to_csv(f'{out_dir}{name.split('_df')[0]}_general_statistics.csv', index=False)"
   ],
   "metadata": {
    "collapsed": false,
    "ExecuteTime": {
     "end_time": "2025-05-29T20:47:06.758297Z",
     "start_time": "2025-05-29T20:47:06.586039Z"
    }
   },
   "id": "8fd3e9613400f23f",
   "execution_count": 21
  },
  {
   "cell_type": "markdown",
   "source": [
    "# Histogramy"
   ],
   "metadata": {
    "collapsed": false
   },
   "id": "c81b07c95cb6c59a"
  },
  {
   "cell_type": "code",
   "outputs": [
    {
     "name": "stdout",
     "output_type": "stream",
     "text": [
      "Saved histograms/CNNGAN_histograms.png\n",
      "Saved histograms/CNNVAE_histograms.png\n",
      "Saved histograms/original_histograms.png\n"
     ]
    }
   ],
   "source": [
    "out_dir = 'histograms/'\n",
    "if not os.path.exists(out_dir):\n",
    "    os.makedirs(out_dir)\n",
    "    \n",
    "dataframes = {\n",
    "    'CNNGAN_df':  gan_df,\n",
    "    'CNNVAE_df':  vae_df,\n",
    "    'original_df': orig_df\n",
    "}\n",
    "\n",
    "for name, df in dataframes.items():\n",
    "    # create a new figure for this DataFrame\n",
    "    fig, axes = plt.subplots(2, 2, figsize=(10, 8))\n",
    "    axes = axes.flatten()\n",
    "\n",
    "    for ax, metric in zip(axes, metrics):\n",
    "        ax.hist(df[metric], bins=10)\n",
    "        ax.set_title(metric.replace('_', ' ').title())\n",
    "        ax.set_xlabel('Value')\n",
    "        ax.set_ylabel('Frequency')\n",
    "        ax.grid(True, axis='y', linestyle='--', linewidth=0.5)\n",
    "\n",
    "    plt.tight_layout()\n",
    "    \n",
    "    filename = os.path.join(out_dir, f\"{name.split('_df')[0]}_histograms.png\")\n",
    "    plt.savefig(filename)\n",
    "    print(f\"Saved {filename}\")\n",
    "    \n",
    "    # Close the figure to free memory\n",
    "    plt.close(fig)"
   ],
   "metadata": {
    "collapsed": false,
    "ExecuteTime": {
     "end_time": "2025-05-29T22:17:10.310673Z",
     "start_time": "2025-05-29T22:17:08.129843Z"
    }
   },
   "id": "1c55862ba8b7f3ad",
   "execution_count": 25
  },
  {
   "cell_type": "markdown",
   "source": [
    "# Wykresy ramka-wąsy"
   ],
   "metadata": {
    "collapsed": false
   },
   "id": "888774fe3ffd5d15"
  },
  {
   "cell_type": "code",
   "outputs": [
    {
     "name": "stdout",
     "output_type": "stream",
     "text": [
      "Saved boxplots/CNNGAN_boxplots.png\n",
      "Saved boxplots/CNNVAE_boxplots.png\n",
      "Saved boxplots/original_boxplots.png\n"
     ]
    }
   ],
   "source": [
    "out_dir = 'boxplots/'\n",
    "if not os.path.exists(out_dir):\n",
    "    os.makedirs(out_dir)\n",
    "\n",
    "for name, df in dataframes.items():\n",
    "    # create a new figure for this DataFrame\n",
    "    fig, axes = plt.subplots(2, 2, figsize=(10, 8))\n",
    "    axes = axes.flatten()\n",
    "\n",
    "    for ax, metric in zip(axes, metrics):\n",
    "        sns.boxplot(y=df[metric], ax=ax)\n",
    "        ax.set_title(metric.replace('_', ' ').title())\n",
    "        ax.set_ylabel('Value')\n",
    "        ax.grid(True, axis='y', linestyle='--', linewidth=0.5)\n",
    "\n",
    "    plt.tight_layout()\n",
    "    \n",
    "    filename = os.path.join(out_dir, f\"{name.split('_df')[0]}_boxplots.png\")\n",
    "    plt.savefig(filename)\n",
    "    print(f\"Saved {filename}\")\n",
    "    \n",
    "    # Close the figure to free memory\n",
    "    plt.close(fig)"
   ],
   "metadata": {
    "collapsed": false,
    "ExecuteTime": {
     "end_time": "2025-05-29T22:17:24.154937Z",
     "start_time": "2025-05-29T22:17:22.221646Z"
    }
   },
   "id": "3cd4a0a74fdb5bdc",
   "execution_count": 26
  },
  {
   "cell_type": "markdown",
   "source": [
    "# Testy na normalność (Shapiro-Wilk)"
   ],
   "metadata": {
    "collapsed": false
   },
   "id": "e3a2e80661e0520b"
  },
  {
   "cell_type": "code",
   "outputs": [
    {
     "name": "stdout",
     "output_type": "stream",
     "text": [
      "Dataframe: CNNGAN_df ### Metric: f2_score ### Stat: 0.913 ### P value: 0.301 ### Normality?: YES\n",
      "Dataframe: CNNGAN_df ### Metric: balanced_accuracy ### Stat: 0.936 ### P value: 0.509 ### Normality?: YES\n",
      "Dataframe: CNNGAN_df ### Metric: recall ### Stat: 0.938 ### P value: 0.528 ### Normality?: YES\n",
      "Dataframe: CNNGAN_df ### Metric: specificity ### Stat: 0.944 ### P value: 0.603 ### Normality?: YES\n",
      "Dataframe: CNNVAE_df ### Metric: f2_score ### Stat: 0.97 ### P value: 0.888 ### Normality?: YES\n",
      "Dataframe: CNNVAE_df ### Metric: balanced_accuracy ### Stat: 0.947 ### P value: 0.637 ### Normality?: YES\n",
      "Dataframe: CNNVAE_df ### Metric: recall ### Stat: 0.946 ### P value: 0.619 ### Normality?: YES\n",
      "Dataframe: CNNVAE_df ### Metric: specificity ### Stat: 0.905 ### P value: 0.246 ### Normality?: YES\n",
      "Dataframe: original_df ### Metric: f2_score ### Stat: 0.946 ### P value: 0.626 ### Normality?: YES\n",
      "Dataframe: original_df ### Metric: balanced_accuracy ### Stat: 0.92 ### P value: 0.354 ### Normality?: YES\n",
      "Dataframe: original_df ### Metric: recall ### Stat: 0.921 ### P value: 0.369 ### Normality?: YES\n",
      "Dataframe: original_df ### Metric: specificity ### Stat: 0.901 ### P value: 0.227 ### Normality?: YES\n"
     ]
    }
   ],
   "source": [
    "for name, df in dataframes.items():\n",
    "    for metric in metrics:\n",
    "        stat, p_value = shapiro(df[metric])\n",
    "        print(\"Dataframe:\", name, \"### Metric:\", metric, \"### Stat:\", round(stat, 3), \"### P value:\", round(p_value, 3), \"### Normality?:\", \"YES\" if p_value > 0.05 else \"NO\")"
   ],
   "metadata": {
    "collapsed": false,
    "ExecuteTime": {
     "end_time": "2025-05-29T20:48:36.444983Z",
     "start_time": "2025-05-29T20:48:36.331939Z"
    }
   },
   "id": "407ebfa0ba0eaa55",
   "execution_count": 24
  },
  {
   "cell_type": "markdown",
   "source": [
    "# Testy na jednorodność wariancji (test Bartletta)"
   ],
   "metadata": {
    "collapsed": false
   },
   "id": "e368aa8a8215ac4f"
  },
  {
   "cell_type": "code",
   "outputs": [
    {
     "name": "stdout",
     "output_type": "stream",
     "text": [
      "Metric: f2_score ### Stat: 4.341 ### P value: 0.114 ### Homoscedasticity?: YES\n",
      "Metric: balanced_accuracy ### Stat: 5.135 ### P value: 0.077 ### Homoscedasticity?: YES\n",
      "Metric: recall ### Stat: 3.518 ### P value: 0.172 ### Homoscedasticity?: YES\n",
      "Metric: specificity ### Stat: 0.574 ### P value: 0.751 ### Homoscedasticity?: YES\n"
     ]
    }
   ],
   "source": [
    "for metric in metrics:\n",
    "    stat, p_value = bartlett(gan_df[metric], vae_df[metric], orig_df[metric])\n",
    "    print(\"Metric:\", metric, \"### Stat:\", round(stat, 3), \"### P value:\", round(p_value, 3), \"### Homoscedasticity?:\", \"YES\" if p_value > 0.05 else \"NO\")"
   ],
   "metadata": {
    "collapsed": false,
    "ExecuteTime": {
     "end_time": "2025-05-29T20:41:57.149643Z",
     "start_time": "2025-05-29T20:41:57.030782Z"
    }
   },
   "id": "97adbf1cea763491",
   "execution_count": 18
  },
  {
   "cell_type": "markdown",
   "source": [
    "# Testy na równość średnich (test ANOVA)"
   ],
   "metadata": {
    "collapsed": false
   },
   "id": "1514686884332808"
  },
  {
   "cell_type": "code",
   "outputs": [
    {
     "name": "stdout",
     "output_type": "stream",
     "text": [
      "Metric: f2_score ### Stat: 0.683 ### P value: 0.513 ### Significant difference?: NO\n",
      "Metric: balanced_accuracy ### Stat: 1.188 ### P value: 0.32 ### Significant difference?: NO\n",
      "Metric: recall ### Stat: 0.496 ### P value: 0.614 ### Significant difference?: NO\n",
      "Metric: specificity ### Stat: 1.051 ### P value: 0.364 ### Significant difference?: NO\n"
     ]
    }
   ],
   "source": [
    "for metric in metrics:\n",
    "    stat, p_value = f_oneway(gan_df[metric], vae_df[metric], orig_df[metric])\n",
    "    print(\"Metric:\", metric, \"### Stat:\", round(stat, 3), \"### P value:\", round(p_value, 3), \"### Significant difference?:\", \"NO\" if p_value > 0.05 else \"YES\")"
   ],
   "metadata": {
    "collapsed": false,
    "ExecuteTime": {
     "end_time": "2025-05-29T20:43:16.047455Z",
     "start_time": "2025-05-29T20:43:15.935576Z"
    }
   },
   "id": "f741e982375da2c5",
   "execution_count": 19
  },
  {
   "cell_type": "code",
   "outputs": [],
   "source": [],
   "metadata": {
    "collapsed": false
   },
   "id": "ac8a9847bc29863e",
   "execution_count": null
  }
 ],
 "metadata": {
  "kernelspec": {
   "display_name": "Python 3",
   "language": "python",
   "name": "python3"
  },
  "language_info": {
   "codemirror_mode": {
    "name": "ipython",
    "version": 2
   },
   "file_extension": ".py",
   "mimetype": "text/x-python",
   "name": "python",
   "nbconvert_exporter": "python",
   "pygments_lexer": "ipython2",
   "version": "2.7.6"
  }
 },
 "nbformat": 4,
 "nbformat_minor": 5
}
